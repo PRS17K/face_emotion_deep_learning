{
  "cells": [
    {
      "cell_type": "code",
      "source": [
        "##https://github.com/hufsaim/T10402201/blob/master/notebook/ch06_SimpleConvNet.ipynb 참고문헌"
      ],
      "metadata": {
        "id": "wfJ5qPSJWeGB"
      },
      "execution_count": null,
      "outputs": []
    },
    {
      "cell_type": "code",
      "source": [
        "from google.colab import drive\n",
        "drive.mount('/content/drive')"
      ],
      "metadata": {
        "colab": {
          "base_uri": "https://localhost:8080/"
        },
        "id": "YeLcC12mWh54",
        "outputId": "ad3d65fb-e475-4c93-a984-bf592b042668"
      },
      "execution_count": 1,
      "outputs": [
        {
          "output_type": "stream",
          "name": "stdout",
          "text": [
            "Mounted at /content/drive\n"
          ]
        }
      ]
    },
    {
      "cell_type": "code",
      "execution_count": 2,
      "metadata": {
        "colab": {
          "base_uri": "https://localhost:8080/",
          "height": 125,
          "referenced_widgets": [
            "55507ccebb1740ac903613b22bbabe67",
            "e29a835d1cee49b9b5ba73467ec52702",
            "8f4ce2832fea408a855c448b9f7f3b73",
            "24569b1046e549f59189cee68e88d54e",
            "595804ceb2fe4ba99623fdfedebb2b21",
            "ad5bb9021697435f8f3c7bd5b2663e83",
            "8f89964e8c0e406c86414ddb64d75781",
            "8ed39dba60ed4ee5aff951ad2c86b9bb",
            "ee0f2c75cd554b7db3dffa9c3a7eff45",
            "41562c5cf7684a2da91afdb51a66a25a",
            "0914786a99ce4d538a507b4e9d5b2ea1"
          ]
        },
        "id": "nCFIyi37WWca",
        "outputId": "fc05b977-3564-4c05-cdd8-6afdf119ee7e"
      },
      "outputs": [
        {
          "output_type": "stream",
          "name": "stderr",
          "text": [
            "Downloading: \"https://download.pytorch.org/models/resnet18-f37072fd.pth\" to /root/.cache/torch/hub/checkpoints/resnet18-f37072fd.pth\n"
          ]
        },
        {
          "output_type": "display_data",
          "data": {
            "text/plain": [
              "  0%|          | 0.00/44.7M [00:00<?, ?B/s]"
            ],
            "application/vnd.jupyter.widget-view+json": {
              "version_major": 2,
              "version_minor": 0,
              "model_id": "55507ccebb1740ac903613b22bbabe67"
            }
          },
          "metadata": {}
        },
        {
          "output_type": "stream",
          "name": "stderr",
          "text": [
            "/usr/local/lib/python3.7/dist-packages/torch/utils/data/dataloader.py:490: UserWarning: This DataLoader will create 4 worker processes in total. Our suggested max number of worker in current system is 2, which is smaller than what this DataLoader is going to create. Please be aware that excessive worker creation might get DataLoader running slow or even freeze, lower the worker number to avoid potential slowness/freeze if necessary.\n",
            "  cpuset_checked))\n"
          ]
        }
      ],
      "source": [
        "import torch\n",
        "import torch.nn as nn\n",
        "import torch.optim as optim\n",
        "from torch.optim import lr_scheduler\n",
        "import numpy as np\n",
        "import torchvision\n",
        "from torchvision import datasets, models, transforms\n",
        "import matplotlib.pyplot as plt\n",
        "import time\n",
        "import os\n",
        "import copy\n",
        "\n",
        "device = torch.device('cuda:0' if torch.cuda.is_available() else 'cpu')\n",
        "\n",
        "\n",
        "model_ft = models.resnet18(pretrained=True)\n",
        "best_model_wts = copy.deepcopy(model_ft.state_dict())\n",
        "\n",
        "\n",
        "batch_size = 8\n",
        "num_epochs = 20\n",
        "\n",
        "model_ft.conv1 = nn.Conv2d(3,64,7,1,3, bias=False)\n",
        "model_ft.layer2[0].conv1 = nn.Conv2d(64,128,3,1,1, bias=False)\n",
        "model_ft.layer2[0].downsample[0] = nn.Conv2d(64,128,1,1,0, bias=False)\n",
        "\n",
        "model_ft.load_state_dict(best_model_wts)\n",
        "\n",
        "\n",
        "for param in model_ft.parameters():\n",
        "    param.requires_grad = True\n",
        "\n",
        "\n",
        "model_ft.fc = nn.Sequential(nn.Linear(in_features=512, out_features=5, bias=True), nn.Dropout(p = 0))\n",
        "model_ft.to(device)\n",
        "\n",
        "data_dir = \"/content/drive/MyDrive/face/images/\"\n",
        "\n",
        "data_transforms = {\n",
        "    'train': transforms.Compose([\n",
        "        transforms.RandomHorizontalFlip(),\n",
        "        transforms.Resize((64,64)),\n",
        "        transforms.ToTensor(),\n",
        "        transforms.Normalize([0.485, 0.456, 0.406], [0.229, 0.224, 0.225])\n",
        "    ]),\n",
        "    'val': transforms.Compose([\n",
        "        transforms.RandomHorizontalFlip(),\n",
        "        transforms.Resize((64,64)),\n",
        "        transforms.ToTensor(),\n",
        "        transforms.Normalize([0.485, 0.456, 0.406], [0.229, 0.224, 0.225])\n",
        "    ]),\n",
        "    'test': transforms.Compose([\n",
        "        transforms.Resize((64,64)),\n",
        "        transforms.ToTensor(),\n",
        "        transforms.Normalize([0.485, 0.456, 0.406], [0.229, 0.224, 0.225])\n",
        "    ]),\n",
        "}\n",
        "\n",
        "image_datasets = {x: datasets.ImageFolder(os.path.join(data_dir, x),\n",
        "                                          data_transforms[x])\n",
        "                  for x in ['train', 'val']}\n",
        "dataloaders = {x: torch.utils.data.DataLoader(image_datasets[x], batch_size=batch_size,\n",
        "                                             shuffle=True, num_workers=4)\n",
        "              for x in ['train', 'val']}\n",
        "dataset_sizes = {x: len(image_datasets[x]) for x in ['train', 'val']}\n",
        "class_names = image_datasets['train'].classes\n",
        "def cutt(images) : \n",
        "  cut = images\n",
        "\n",
        "  a=torch.zeros(64,64)\n",
        "  a[5:30] = 1\n",
        "  \n",
        "  a=a.to(device)\n",
        "  cut=cut.to(device)\n",
        "\n",
        "  b = cut * a\n",
        "  b=b.to(device)\n",
        "\n",
        "  return b"
      ]
    },
    {
      "cell_type": "code",
      "execution_count": 3,
      "metadata": {
        "id": "DQ0mnN1uWWce"
      },
      "outputs": [],
      "source": [
        "def train_model(model, criterion, optimizer, scheduler, num_epochs=25):\n",
        "    since = time.time()\n",
        "\n",
        "    best_model_wts = copy.deepcopy(model.state_dict())\n",
        "    best_acc = 0.0\n",
        "    train_loss = []\n",
        "    val_loss = []\n",
        "    train_acc = []\n",
        "    val_acc = []\n",
        "    for epoch in range(num_epochs):\n",
        "        print('Epoch {}/{}'.format(epoch, num_epochs - 1))\n",
        "        print('-' * 10)\n",
        "\n",
        "        for phase in ['train', 'val']:\n",
        "            if phase == 'train':\n",
        "                model.train() \n",
        "            else:\n",
        "                model.eval()  \n",
        "\n",
        "            running_loss = 0.0\n",
        "            running_corrects = 0\n",
        "\n",
        "\n",
        "            for inputs, labels in dataloaders[phase]:\n",
        "                inputs = inputs.to(device)\n",
        "                inputs = cutt(inputs)\n",
        "                labels = labels.to(device)\n",
        "                \n",
        "\n",
        "                optimizer.zero_grad()\n",
        "\n",
        "                \n",
        "                with torch.set_grad_enabled(phase == 'train'):\n",
        "                    outputs = model(inputs).to(device)\n",
        "                    _, preds = torch.max(outputs, 1)\n",
        "                    loss = criterion(outputs, labels)\n",
        "\n",
        "                    \n",
        "                    if phase == 'train':\n",
        "                        loss.backward()\n",
        "                        optimizer.step()\n",
        "\n",
        "                \n",
        "                running_loss += loss.item() * inputs.size(0)\n",
        "                running_corrects += torch.sum(preds == labels.data)\n",
        "\n",
        "            if phase == 'train':\n",
        "                scheduler.step()\n",
        "\n",
        "            epoch_loss = running_loss / dataset_sizes[phase]\n",
        "            epoch_acc = running_corrects.double() / dataset_sizes[phase]\n",
        "            \n",
        "            \n",
        "\n",
        "\n",
        "            if phase == 'train':\n",
        "                train_loss.append(epoch_loss)\n",
        "                train_acc.append(epoch_acc.tolist())\n",
        "            else :\n",
        "                val_loss.append(epoch_loss)\n",
        "                val_acc.append(epoch_acc.tolist())\n",
        "            print('{} Loss: {:.4f} Acc: {:.4f}'.format(\n",
        "                phase, epoch_loss, epoch_acc))\n",
        "\n",
        "\n",
        "            if phase == 'val' and epoch_acc > best_acc:\n",
        "                best_acc = epoch_acc\n",
        "                best_model_wts = copy.deepcopy(model.state_dict())\n",
        "\n",
        "        print()\n",
        "\n",
        "    time_elapsed = time.time() - since\n",
        "    print('Training complete in {:.0f}m {:.0f}s'.format(\n",
        "        time_elapsed // 60, time_elapsed % 60))\n",
        "    print('Best val Acc: {:4f}'.format(best_acc))\n",
        "\n",
        "    model.load_state_dict(best_model_wts)\n",
        "    return model,train_loss,val_loss,train_acc,val_acc"
      ]
    },
    {
      "cell_type": "code",
      "execution_count": 4,
      "metadata": {
        "scrolled": true,
        "colab": {
          "base_uri": "https://localhost:8080/"
        },
        "id": "qBn_Q1uTWWci",
        "outputId": "5977dcc4-cfe9-4471-e87d-f35a84de3dcf"
      },
      "outputs": [
        {
          "output_type": "stream",
          "name": "stdout",
          "text": [
            "Epoch 0/19\n",
            "----------\n"
          ]
        },
        {
          "output_type": "stream",
          "name": "stderr",
          "text": [
            "/usr/local/lib/python3.7/dist-packages/torch/utils/data/dataloader.py:490: UserWarning: This DataLoader will create 4 worker processes in total. Our suggested max number of worker in current system is 2, which is smaller than what this DataLoader is going to create. Please be aware that excessive worker creation might get DataLoader running slow or even freeze, lower the worker number to avoid potential slowness/freeze if necessary.\n",
            "  cpuset_checked))\n"
          ]
        },
        {
          "output_type": "stream",
          "name": "stdout",
          "text": [
            "train Loss: 2.4992 Acc: 0.3181\n",
            "val Loss: 1.5107 Acc: 0.3974\n",
            "\n",
            "Epoch 1/19\n",
            "----------\n",
            "train Loss: 1.5697 Acc: 0.4169\n",
            "val Loss: 1.2456 Acc: 0.4962\n",
            "\n",
            "Epoch 2/19\n",
            "----------\n",
            "train Loss: 1.4109 Acc: 0.4715\n",
            "val Loss: 1.2115 Acc: 0.5459\n",
            "\n",
            "Epoch 3/19\n",
            "----------\n",
            "train Loss: 1.2534 Acc: 0.5313\n",
            "val Loss: 1.1495 Acc: 0.5666\n",
            "\n",
            "Epoch 4/19\n",
            "----------\n",
            "train Loss: 1.0567 Acc: 0.6028\n",
            "val Loss: 1.3028 Acc: 0.5556\n",
            "\n",
            "Epoch 5/19\n",
            "----------\n",
            "train Loss: 0.6625 Acc: 0.7612\n",
            "val Loss: 0.8940 Acc: 0.6965\n",
            "\n",
            "Epoch 6/19\n",
            "----------\n",
            "train Loss: 0.5486 Acc: 0.8079\n",
            "val Loss: 0.9026 Acc: 0.7137\n",
            "\n",
            "Epoch 7/19\n",
            "----------\n",
            "train Loss: 0.4961 Acc: 0.8264\n",
            "val Loss: 0.9006 Acc: 0.7196\n",
            "\n",
            "Epoch 8/19\n",
            "----------\n",
            "train Loss: 0.4346 Acc: 0.8428\n",
            "val Loss: 0.8396 Acc: 0.7486\n",
            "\n",
            "Epoch 9/19\n",
            "----------\n",
            "train Loss: 0.3768 Acc: 0.8648\n",
            "val Loss: 0.9178 Acc: 0.7390\n",
            "\n",
            "Epoch 10/19\n",
            "----------\n",
            "train Loss: 0.3205 Acc: 0.8899\n",
            "val Loss: 0.8865 Acc: 0.7552\n",
            "\n",
            "Epoch 11/19\n",
            "----------\n",
            "train Loss: 0.3062 Acc: 0.8995\n",
            "val Loss: 0.8951 Acc: 0.7562\n",
            "\n",
            "Epoch 12/19\n",
            "----------\n",
            "train Loss: 0.3025 Acc: 0.8958\n",
            "val Loss: 0.8988 Acc: 0.7562\n",
            "\n",
            "Epoch 13/19\n",
            "----------\n",
            "train Loss: 0.2740 Acc: 0.9104\n",
            "val Loss: 0.8802 Acc: 0.7600\n",
            "\n",
            "Epoch 14/19\n",
            "----------\n",
            "train Loss: 0.2887 Acc: 0.8997\n",
            "val Loss: 0.8846 Acc: 0.7548\n",
            "\n",
            "Epoch 15/19\n",
            "----------\n",
            "train Loss: 0.2825 Acc: 0.9090\n",
            "val Loss: 0.8609 Acc: 0.7521\n",
            "\n",
            "Epoch 16/19\n",
            "----------\n",
            "train Loss: 0.2851 Acc: 0.9051\n",
            "val Loss: 0.8816 Acc: 0.7600\n",
            "\n",
            "Epoch 17/19\n",
            "----------\n",
            "train Loss: 0.2870 Acc: 0.9012\n",
            "val Loss: 0.8724 Acc: 0.7648\n",
            "\n",
            "Epoch 18/19\n",
            "----------\n",
            "train Loss: 0.2888 Acc: 0.9045\n",
            "val Loss: 0.8954 Acc: 0.7638\n",
            "\n",
            "Epoch 19/19\n",
            "----------\n",
            "train Loss: 0.2844 Acc: 0.9036\n",
            "val Loss: 0.8741 Acc: 0.7666\n",
            "\n",
            "Training complete in 18m 39s\n",
            "Best val Acc: 0.766575\n"
          ]
        }
      ],
      "source": [
        "criterion = nn.CrossEntropyLoss()\n",
        "\n",
        "\n",
        "optimizer = optim.SGD([\n",
        "                {'params': model_ft.layer1.parameters(),'lr' : 1e-6},\n",
        "                {'params': model_ft.layer2.parameters(),'lr' : 1e-5},\n",
        "                {'params': model_ft.layer3.parameters(),'lr' : 1e-4},\n",
        "                {'params': model_ft.layer4.parameters(),'lr' : 1e-3},\n",
        "                {'params': model_ft.fc.parameters(), 'lr': 1e-2}\n",
        "            ],momentum=0.9)\n",
        "\n",
        "exp_lr_scheduler = lr_scheduler.StepLR(optimizer, step_size=5, gamma=0.1)\n",
        "\n",
        "model,train_loss,val_loss,train_acc,val_acc = train_model(model_ft, criterion, optimizer, exp_lr_scheduler, num_epochs=num_epochs)"
      ]
    },
    {
      "cell_type": "code",
      "execution_count": 5,
      "metadata": {
        "id": "6P-FTvncWWck",
        "outputId": "55dc0281-a45f-48db-b65d-3c17e2b93649",
        "colab": {
          "base_uri": "https://localhost:8080/",
          "height": 597
        }
      },
      "outputs": [
        {
          "output_type": "display_data",
          "data": {
            "text/plain": [
              "<Figure size 432x288 with 1 Axes>"
            ],
            "image/png": "[encoded data removed]"
          },
          "metadata": {
            "needs_background": "light"
          }
        },
        {
          "output_type": "display_data",
          "data": {
            "text/plain": [
              "<Figure size 432x288 with 1 Axes>"
            ],
            "image/png": "[encoded data removed]"
          },
          "metadata": {
            "needs_background": "light"
          }
        }
      ],
      "source": [
        "SMALL_SIZE = 10\n",
        "MEDIUM_SIZE = 15\n",
        "BIGGER_SIZE = 15\n",
        "\n",
        "\n",
        "\n",
        "plt.rc('font', size=MEDIUM_SIZE) \n",
        "plt.rc('axes', titlesize=MEDIUM_SIZE) \n",
        "plt.rc('axes', labelsize=MEDIUM_SIZE) \n",
        "plt.rc('xtick', labelsize=MEDIUM_SIZE) \n",
        "plt.rc('ytick', labelsize=MEDIUM_SIZE) \n",
        "plt.rc('legend', fontsize=SMALL_SIZE) \n",
        "plt.rc('figure', titlesize=MEDIUM_SIZE) \n",
        "\n",
        "plt.plot(train_loss)\n",
        "plt.plot(val_loss)\n",
        "plt.grid(True);\n",
        "plt.title('Model loss')\n",
        "plt.ylabel('Loss')\n",
        "plt.xlabel('Epoch')\n",
        "plt.legend(['train', 'test'], loc='upper right')\n",
        "plt.show()\n",
        "\n",
        "\n",
        "\n",
        "plt.plot(train_acc)\n",
        "plt.plot(val_acc)\n",
        "plt.grid(True)\n",
        "plt.ylim([0, 1.1])\n",
        "plt.title('Model accuracy')\n",
        "plt.ylabel('Accuracy [%]')\n",
        "plt.xlabel('Epoch')\n",
        "plt.legend(['train', 'test'], loc='lower right')\n",
        "plt.show()"
      ]
    },
    {
      "cell_type": "code",
      "source": [
        "##inference\n",
        "\n",
        "from PIL import Image\n",
        "image = Image.open(\"/content/drive/MyDrive/face/images/test/\")\n",
        "a = transforms.Compose([\n",
        "        transforms.Resize((64,64)),  \n",
        "        transforms.ToTensor(),\n",
        "        transforms.Normalize([0.485, 0.456, 0.406], [0.229, 0.224, 0.225])\n",
        "    ])\n",
        "image = a(image)\n",
        "image = cutt(image) \n",
        "image.shape\n",
        "image = image.reshape(1,3,64,64)"
      ],
      "metadata": {
        "id": "GZLujEDg_htN"
      },
      "execution_count": 96,
      "outputs": []
    },
    {
      "cell_type": "code",
      "execution_count": 98,
      "metadata": {
        "id": "YWalKSyAWWcn",
        "colab": {
          "base_uri": "https://localhost:8080/"
        },
        "outputId": "fbd08373-89da-4a56-f955-1b4e808001ef"
      },
      "outputs": [
        {
          "output_type": "stream",
          "name": "stdout",
          "text": [
            "tensor([4], device='cuda:0')\n",
            "Predicted class is: angry\n"
          ]
        }
      ],
      "source": [
        "savePath =  \"/content/drive/MyDrive/test/parameter_model.pth\"\n",
        "\n",
        "torch.save(model.state_dict(), savePath)\n",
        "\n",
        "#loadPath =\"\" ##파라미터 경로 입력\n",
        "#model.load_state_dict(torch.load(loadPath))\n",
        "#model.to(device)\n",
        "model.eval()\n",
        "\n",
        "\n",
        "import matplotlib.pyplot as plt\n",
        "\n",
        "\n",
        "out = model(image.to(device))\n",
        "\n",
        "\n",
        "\n",
        "labels = ['surprise','sad','neutral','happy','angry']\n",
        "_,preds = torch.max(out, 1)\n",
        "print(preds)\n",
        "print(\"Predicted class is: {}\".format(labels[preds]))\n"
      ]
    }
  ],
  "metadata": {
    "kernelspec": {
      "display_name": "Python (DL38)",
      "language": "python",
      "name": "dl38"
    },
    "language_info": {
      "codemirror_mode": {
        "name": "ipython",
        "version": 3
      },
      "file_extension": ".py",
      "mimetype": "text/x-python",
      "name": "python",
      "nbconvert_exporter": "python",
      "pygments_lexer": "ipython3",
      "version": "3.8.5"
    },
    "colab": {
      "name": "project.ipynb",
      "provenance": [],
      "collapsed_sections": []
    },
    "accelerator": "GPU",
    "widgets": {
      "application/vnd.jupyter.widget-state+json": {
        "55507ccebb1740ac903613b22bbabe67": {
          "model_module": "@jupyter-widgets/controls",
          "model_name": "HBoxModel",
          "model_module_version": "1.5.0",
          "state": {
            "_dom_classes": [],
            "_model_module": "@jupyter-widgets/controls",
            "_model_module_version": "1.5.0",
            "_model_name": "HBoxModel",
            "_view_count": null,
            "_view_module": "@jupyter-widgets/controls",
            "_view_module_version": "1.5.0",
            "_view_name": "HBoxView",
            "box_style": "",
            "children": [
              "IPY_MODEL_e29a835d1cee49b9b5ba73467ec52702",
              "IPY_MODEL_8f4ce2832fea408a855c448b9f7f3b73",
              "IPY_MODEL_24569b1046e549f59189cee68e88d54e"
            ],
            "layout": "IPY_MODEL_595804ceb2fe4ba99623fdfedebb2b21"
          }
        },
        "e29a835d1cee49b9b5ba73467ec52702": {
          "model_module": "@jupyter-widgets/controls",
          "model_name": "HTMLModel",
          "model_module_version": "1.5.0",
          "state": {
            "_dom_classes": [],
            "_model_module": "@jupyter-widgets/controls",
            "_model_module_version": "1.5.0",
            "_model_name": "HTMLModel",
            "_view_count": null,
            "_view_module": "@jupyter-widgets/controls",
            "_view_module_version": "1.5.0",
            "_view_name": "HTMLView",
            "description": "",
            "description_tooltip": null,
            "layout": "IPY_MODEL_ad5bb9021697435f8f3c7bd5b2663e83",
            "placeholder": "​",
            "style": "IPY_MODEL_8f89964e8c0e406c86414ddb64d75781",
            "value": "100%"
          }
        },
        "8f4ce2832fea408a855c448b9f7f3b73": {
          "model_module": "@jupyter-widgets/controls",
          "model_name": "FloatProgressModel",
          "model_module_version": "1.5.0",
          "state": {
            "_dom_classes": [],
            "_model_module": "@jupyter-widgets/controls",
            "_model_module_version": "1.5.0",
            "_model_name": "FloatProgressModel",
            "_view_count": null,
            "_view_module": "@jupyter-widgets/controls",
            "_view_module_version": "1.5.0",
            "_view_name": "ProgressView",
            "bar_style": "success",
            "description": "",
            "description_tooltip": null,
            "layout": "IPY_MODEL_8ed39dba60ed4ee5aff951ad2c86b9bb",
            "max": 46830571,
            "min": 0,
            "orientation": "horizontal",
            "style": "IPY_MODEL_ee0f2c75cd554b7db3dffa9c3a7eff45",
            "value": 46830571
          }
        },
        "24569b1046e549f59189cee68e88d54e": {
          "model_module": "@jupyter-widgets/controls",
          "model_name": "HTMLModel",
          "model_module_version": "1.5.0",
          "state": {
            "_dom_classes": [],
            "_model_module": "@jupyter-widgets/controls",
            "_model_module_version": "1.5.0",
            "_model_name": "HTMLModel",
            "_view_count": null,
            "_view_module": "@jupyter-widgets/controls",
            "_view_module_version": "1.5.0",
            "_view_name": "HTMLView",
            "description": "",
            "description_tooltip": null,
            "layout": "IPY_MODEL_41562c5cf7684a2da91afdb51a66a25a",
            "placeholder": "​",
            "style": "IPY_MODEL_0914786a99ce4d538a507b4e9d5b2ea1",
            "value": " 44.7M/44.7M [00:00&lt;00:00, 71.5MB/s]"
          }
        },
        "595804ceb2fe4ba99623fdfedebb2b21": {
          "model_module": "@jupyter-widgets/base",
          "model_name": "LayoutModel",
          "model_module_version": "1.2.0",
          "state": {
            "_model_module": "@jupyter-widgets/base",
            "_model_module_version": "1.2.0",
            "_model_name": "LayoutModel",
            "_view_count": null,
            "_view_module": "@jupyter-widgets/base",
            "_view_module_version": "1.2.0",
            "_view_name": "LayoutView",
            "align_content": null,
            "align_items": null,
            "align_self": null,
            "border": null,
            "bottom": null,
            "display": null,
            "flex": null,
            "flex_flow": null,
            "grid_area": null,
            "grid_auto_columns": null,
            "grid_auto_flow": null,
            "grid_auto_rows": null,
            "grid_column": null,
            "grid_gap": null,
            "grid_row": null,
            "grid_template_areas": null,
            "grid_template_columns": null,
            "grid_template_rows": null,
            "height": null,
            "justify_content": null,
            "justify_items": null,
            "left": null,
            "margin": null,
            "max_height": null,
            "max_width": null,
            "min_height": null,
            "min_width": null,
            "object_fit": null,
            "object_position": null,
            "order": null,
            "overflow": null,
            "overflow_x": null,
            "overflow_y": null,
            "padding": null,
            "right": null,
            "top": null,
            "visibility": null,
            "width": null
          }
        },
        "ad5bb9021697435f8f3c7bd5b2663e83": {
          "model_module": "@jupyter-widgets/base",
          "model_name": "LayoutModel",
          "model_module_version": "1.2.0",
          "state": {
            "_model_module": "@jupyter-widgets/base",
            "_model_module_version": "1.2.0",
            "_model_name": "LayoutModel",
            "_view_count": null,
            "_view_module": "@jupyter-widgets/base",
            "_view_module_version": "1.2.0",
            "_view_name": "LayoutView",
            "align_content": null,
            "align_items": null,
            "align_self": null,
            "border": null,
            "bottom": null,
            "display": null,
            "flex": null,
            "flex_flow": null,
            "grid_area": null,
            "grid_auto_columns": null,
            "grid_auto_flow": null,
            "grid_auto_rows": null,
            "grid_column": null,
            "grid_gap": null,
            "grid_row": null,
            "grid_template_areas": null,
            "grid_template_columns": null,
            "grid_template_rows": null,
            "height": null,
            "justify_content": null,
            "justify_items": null,
            "left": null,
            "margin": null,
            "max_height": null,
            "max_width": null,
            "min_height": null,
            "min_width": null,
            "object_fit": null,
            "object_position": null,
            "order": null,
            "overflow": null,
            "overflow_x": null,
            "overflow_y": null,
            "padding": null,
            "right": null,
            "top": null,
            "visibility": null,
            "width": null
          }
        },
        "8f89964e8c0e406c86414ddb64d75781": {
          "model_module": "@jupyter-widgets/controls",
          "model_name": "DescriptionStyleModel",
          "model_module_version": "1.5.0",
          "state": {
            "_model_module": "@jupyter-widgets/controls",
            "_model_module_version": "1.5.0",
            "_model_name": "DescriptionStyleModel",
            "_view_count": null,
            "_view_module": "@jupyter-widgets/base",
            "_view_module_version": "1.2.0",
            "_view_name": "StyleView",
            "description_width": ""
          }
        },
        "8ed39dba60ed4ee5aff951ad2c86b9bb": {
          "model_module": "@jupyter-widgets/base",
          "model_name": "LayoutModel",
          "model_module_version": "1.2.0",
          "state": {
            "_model_module": "@jupyter-widgets/base",
            "_model_module_version": "1.2.0",
            "_model_name": "LayoutModel",
            "_view_count": null,
            "_view_module": "@jupyter-widgets/base",
            "_view_module_version": "1.2.0",
            "_view_name": "LayoutView",
            "align_content": null,
            "align_items": null,
            "align_self": null,
            "border": null,
            "bottom": null,
            "display": null,
            "flex": null,
            "flex_flow": null,
            "grid_area": null,
            "grid_auto_columns": null,
            "grid_auto_flow": null,
            "grid_auto_rows": null,
            "grid_column": null,
            "grid_gap": null,
            "grid_row": null,
            "grid_template_areas": null,
            "grid_template_columns": null,
            "grid_template_rows": null,
            "height": null,
            "justify_content": null,
            "justify_items": null,
            "left": null,
            "margin": null,
            "max_height": null,
            "max_width": null,
            "min_height": null,
            "min_width": null,
            "object_fit": null,
            "object_position": null,
            "order": null,
            "overflow": null,
            "overflow_x": null,
            "overflow_y": null,
            "padding": null,
            "right": null,
            "top": null,
            "visibility": null,
            "width": null
          }
        },
        "ee0f2c75cd554b7db3dffa9c3a7eff45": {
          "model_module": "@jupyter-widgets/controls",
          "model_name": "ProgressStyleModel",
          "model_module_version": "1.5.0",
          "state": {
            "_model_module": "@jupyter-widgets/controls",
            "_model_module_version": "1.5.0",
            "_model_name": "ProgressStyleModel",
            "_view_count": null,
            "_view_module": "@jupyter-widgets/base",
            "_view_module_version": "1.2.0",
            "_view_name": "StyleView",
            "bar_color": null,
            "description_width": ""
          }
        },
        "41562c5cf7684a2da91afdb51a66a25a": {
          "model_module": "@jupyter-widgets/base",
          "model_name": "LayoutModel",
          "model_module_version": "1.2.0",
          "state": {
            "_model_module": "@jupyter-widgets/base",
            "_model_module_version": "1.2.0",
            "_model_name": "LayoutModel",
            "_view_count": null,
            "_view_module": "@jupyter-widgets/base",
            "_view_module_version": "1.2.0",
            "_view_name": "LayoutView",
            "align_content": null,
            "align_items": null,
            "align_self": null,
            "border": null,
            "bottom": null,
            "display": null,
            "flex": null,
            "flex_flow": null,
            "grid_area": null,
            "grid_auto_columns": null,
            "grid_auto_flow": null,
            "grid_auto_rows": null,
            "grid_column": null,
            "grid_gap": null,
            "grid_row": null,
            "grid_template_areas": null,
            "grid_template_columns": null,
            "grid_template_rows": null,
            "height": null,
            "justify_content": null,
            "justify_items": null,
            "left": null,
            "margin": null,
            "max_height": null,
            "max_width": null,
            "min_height": null,
            "min_width": null,
            "object_fit": null,
            "object_position": null,
            "order": null,
            "overflow": null,
            "overflow_x": null,
            "overflow_y": null,
            "padding": null,
            "right": null,
            "top": null,
            "visibility": null,
            "width": null
          }
        },
        "0914786a99ce4d538a507b4e9d5b2ea1": {
          "model_module": "@jupyter-widgets/controls",
          "model_name": "DescriptionStyleModel",
          "model_module_version": "1.5.0",
          "state": {
            "_model_module": "@jupyter-widgets/controls",
            "_model_module_version": "1.5.0",
            "_model_name": "DescriptionStyleModel",
            "_view_count": null,
            "_view_module": "@jupyter-widgets/base",
            "_view_module_version": "1.2.0",
            "_view_name": "StyleView",
            "description_width": ""
          }
        }
      }
    }
  },
  "nbformat": 4,
  "nbformat_minor": 0
}